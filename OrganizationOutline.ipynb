{
 "cells": [
  {
   "cell_type": "markdown",
   "metadata": {},
   "source": [
    "**Determine the basic properties of this target**.\n",
    "\n",
    "The `Target` class handles the properties of the star, and (if relevant) the planet or periodic signal associated with that star."
   ]
  },
  {
   "cell_type": "code",
   "execution_count": 3,
   "metadata": {
    "collapsed": false
   },
   "outputs": [
    {
     "name": "stdout",
     "output_type": "stream",
     "text": [
      "         [star] made <GJ1132> from SIMBAD\n",
      "       [target] Here is a brief summary of target.\n",
      "\n",
      "                 {'_line': inf,\n",
      "                  '_mute': False,\n",
      "                  '_pithy': False,\n",
      "                  '_prefix': '       [target] ',\n",
      "                  'name': 'GJ1132b',\n",
      "                  'nametag': 'target',\n",
      "                  'star': <GJ1132>}\n",
      "\n"
     ]
    }
   ],
   "source": [
    "from mosasaurus.Target import Target\n",
    "t = Target(starname='GJ1132', name='GJ1132b')\n",
    "t.summarize()"
   ]
  },
  {
   "cell_type": "markdown",
   "metadata": {},
   "source": [
    "**Determine the basic properties of this instrument.**\n",
    "\n",
    "Classes derived from the `Instrument` class handle all instrument-specific information, including\n",
    "- the reduction of CCD frames\n",
    "- the extraction of key information from headers\n",
    "- the mapping of reference positions to apertures\n",
    "- ...\n",
    "\n",
    "\n"
   ]
  },
  {
   "cell_type": "code",
   "execution_count": 4,
   "metadata": {
    "collapsed": false
   },
   "outputs": [
    {
     "name": "stdout",
     "output_type": "stream",
     "text": [
      "       [ldss3c] Here is a brief summary of ldss3c.\n",
      "\n",
      "                 {'_line': inf,\n",
      "                  '_mute': False,\n",
      "                  '_pithy': False,\n",
      "                  '_prefix': '       [ldss3c] ',\n",
      "                  'arclamps': ['He', 'Ne', 'Ar'],\n",
      "                  'baseDirectory': '/Users/zkbt/Cosmos/Data/Magellan/LDSS3/',\n",
      "                  'binning': 2,\n",
      "                  'dataDirectory': '/Users/zkbt/Cosmos/Data/Magellan/LDSS3/data/',\n",
      "                  'databottom': 0,\n",
      "                  'dataleft': 0,\n",
      "                  'dataright': 512,\n",
      "                  'datatop': 2048,\n",
      "                  'disperser': 'vph-red',\n",
      "                  'disperserDirectory': '/data/LDSS3C/vph-red/',\n",
      "                  'dispersertype': 'grism',\n",
      "                  'extractionDirectory': '/Users/zkbt/Cosmos/Data/Magellan/LDSS3/extraction/',\n",
      "                  'extractiondefaults': {'narrowest': 2,\n",
      "                                         'numberofapertures': 6,\n",
      "                                         'skyGap': 2,\n",
      "                                         'skyWidth': 10,\n",
      "                                         'spatialsubarray': 50,\n",
      "                                         'traceOrder': 2,\n",
      "                                         'wavelengthblueward': inf,\n",
      "                                         'wavelengthredward': inf,\n",
      "                                         'widest': 12},\n",
      "                  'gains': array([ 1.72,  1.49]),\n",
      "                  'grism': 'vph-red',\n",
      "                  'name': 'LDSS3C',\n",
      "                  'nametag': 'ldss3c',\n",
      "                  'namps': 2,\n",
      "                  'observatory': {'elev': <Quantity 2282.0 m>,\n",
      "                                  'elevsea': <Quantity 2282.0 m>,\n",
      "                                  'latitude': <Quantity -29.00833 deg>,\n",
      "                                  'longitude': <Quantity 4.71333 hourangle>,\n",
      "                                  'name': 'Las Campanas Observatory',\n",
      "                                  'standardzone': <Quantity 4.0 h>,\n",
      "                                  'timezone': 'Chilean',\n",
      "                                  'usedaylightsaving': -1},\n",
      "                  'telescope': 'Magellan',\n",
      "                  'wavelength2pixelsFile': '/data/LDSS3C/vph-red/vph-red_wavelength_identifications.txt',\n",
      "                  'wavelengthsFile': '/data/LDSS3C/vph-red/HeNeAr.txt',\n",
      "                  'workingDirectory': '/Users/zkbt/Cosmos/Data/Magellan/LDSS3/working/'}\n",
      "\n"
     ]
    }
   ],
   "source": [
    "from mosasaurus.instruments import LDSS3C\n",
    "i = LDSS3C(grism='vph-red')\n",
    "i.summarize()"
   ]
  },
  {
   "cell_type": "code",
   "execution_count": 7,
   "metadata": {
    "collapsed": false
   },
   "outputs": [
    {
     "data": {
      "text/plain": [
       "[]"
      ]
     },
     "execution_count": 7,
     "metadata": {},
     "output_type": "execute_result"
    }
   ],
   "source": [
    "i.keysforlogheader = []"
   ]
  },
  {
   "cell_type": "markdown",
   "metadata": {},
   "source": [
    "** Determine the basic properties of this night, including a nightly observing log.**\n",
    "\n",
    "This creates a summary observing log that contains all the files from that night. This can be useful for identifying which exposures should be used for various calibration and analysis steps."
   ]
  },
  {
   "cell_type": "code",
   "execution_count": null,
   "metadata": {
    "collapsed": false
   },
   "outputs": [],
   "source": [
    "from mosasaurus.Night import Night\n",
    "n = Night('ut160227_28', instrument=i)\n",
    "n.summarize()\n",
    "n.createNightlyLog()"
   ]
  },
  {
   "cell_type": "code",
   "execution_count": null,
   "metadata": {
    "collapsed": false
   },
   "outputs": [],
   "source": [
    "n.log"
   ]
  },
  {
   "cell_type": "markdown",
   "metadata": {},
   "source": [
    "**Determine the basic properties of this observation, including the data associated with it.**\n",
    "\n",
    "-identify data associated with this observation"
   ]
  },
  {
   "cell_type": "code",
   "execution_count": null,
   "metadata": {
    "collapsed": false
   },
   "outputs": [],
   "source": [
    "from mosasaurus.Observation import Observation\n",
    "o = Observation(t, i, n)\n"
   ]
  },
  {
   "cell_type": "markdown",
   "metadata": {},
   "source": [
    "-\n",
    "\n",
    "-calculate auxiliary information (e.g. barycentric correction)\n",
    "-create master calibration data relevant to this observation\n",
    "-identify likely cosmic rays in this image\n",
    "-define reference positions from which spectra should be extracted\n",
    "-identify relevant pixels, define extraction apertures\n",
    "-extract spectra, and visualize the process\n"
   ]
  },
  {
   "cell_type": "code",
   "execution_count": null,
   "metadata": {
    "collapsed": false
   },
   "outputs": [],
   "source": [
    "col = n.log['object']\n",
    "col."
   ]
  },
  {
   "cell_type": "code",
   "execution_count": null,
   "metadata": {
    "collapsed": true
   },
   "outputs": [],
   "source": []
  },
  {
   "cell_type": "code",
   "execution_count": null,
   "metadata": {
    "collapsed": true
   },
   "outputs": [],
   "source": []
  }
 ],
 "metadata": {
  "anaconda-cloud": {},
  "kernelspec": {
   "display_name": "Python [default]",
   "language": "python",
   "name": "python2"
  },
  "language_info": {
   "codemirror_mode": {
    "name": "ipython",
    "version": 2
   },
   "file_extension": ".py",
   "mimetype": "text/x-python",
   "name": "python",
   "nbconvert_exporter": "python",
   "pygments_lexer": "ipython2",
   "version": "2.7.13"
  }
 },
 "nbformat": 4,
 "nbformat_minor": 2
}
