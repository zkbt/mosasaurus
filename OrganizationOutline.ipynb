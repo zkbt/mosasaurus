{
 "cells": [
  {
   "cell_type": "markdown",
   "metadata": {},
   "source": [
    "**Determine the basic properties of this target**.\n",
    "\n",
    "The `Target` class handles the properties of the star, and (if relevant) the planet or periodic signal associated with that star."
   ]
  },
  {
   "cell_type": "code",
   "execution_count": null,
   "metadata": {},
   "outputs": [],
   "source": [
    "from mosasaurus.Target import Target\n",
    "t = Target(starname='GJ1132', name='GJ1132b')\n",
    "t.summarize()"
   ]
  },
  {
   "cell_type": "markdown",
   "metadata": {},
   "source": [
    "**Determine the basic properties of this instrument.**\n",
    "\n",
    "Classes derived from the `Instrument` class handle all instrument-specific information, including\n",
    "- the reduction of CCD frames\n",
    "- the extraction of key information from headers\n",
    "- the mapping of reference positions to apertures\n",
    "- ...\n",
    "\n",
    "\n"
   ]
  },
  {
   "cell_type": "code",
   "execution_count": null,
   "metadata": {},
   "outputs": [],
   "source": [
    "from mosasaurus.instruments import LDSS3C\n",
    "i = LDSS3C(grism='vph-red')\n",
    "i.summarize()"
   ]
  },
  {
   "cell_type": "code",
   "execution_count": null,
   "metadata": {},
   "outputs": [],
   "source": [
    "i.keysforlogheader = []"
   ]
  },
  {
   "cell_type": "markdown",
   "metadata": {},
   "source": [
    "** Determine the basic properties of this night, including a nightly observing log.**\n",
    "\n",
    "This creates a summary observing log that contains all the files from that night. This can be useful for identifying which exposures should be used for various calibration and analysis steps."
   ]
  },
  {
   "cell_type": "code",
   "execution_count": null,
   "metadata": {},
   "outputs": [],
   "source": [
    "from mosasaurus.Night import Night\n",
    "n = Night('ut160227_28', instrument=i)\n",
    "n.summarize()\n",
    "n.createNightlyLog()"
   ]
  },
  {
   "cell_type": "code",
   "execution_count": null,
   "metadata": {},
   "outputs": [],
   "source": [
    "n.log"
   ]
  },
  {
   "cell_type": "markdown",
   "metadata": {},
   "source": [
    "**Determine the basic properties of this observation, including the data associated with it.**\n",
    "\n",
    "-identify data associated with this observation"
   ]
  },
  {
   "cell_type": "code",
   "execution_count": null,
   "metadata": {},
   "outputs": [],
   "source": [
    "from mosasaurus.Observation import Observation\n",
    "o = Observation(t, i, n)\n"
   ]
  },
  {
   "cell_type": "markdown",
   "metadata": {},
   "source": [
    "-\n",
    "\n",
    "-calculate auxiliary information (e.g. barycentric correction)\n",
    "-create master calibration data relevant to this observation\n",
    "-identify likely cosmic rays in this image\n",
    "-define reference positions from which spectra should be extracted\n",
    "-identify relevant pixels, define extraction apertures\n",
    "-extract spectra, and visualize the process\n"
   ]
  },
  {
   "cell_type": "code",
   "execution_count": null,
   "metadata": {},
   "outputs": [],
   "source": [
    "col = n.log['object']\n",
    "col."
   ]
  },
  {
   "cell_type": "code",
   "execution_count": null,
   "metadata": {},
   "outputs": [],
   "source": []
  },
  {
   "cell_type": "code",
   "execution_count": null,
   "metadata": {},
   "outputs": [],
   "source": []
  }
 ],
 "metadata": {
  "anaconda-cloud": {},
  "kernelspec": {
   "display_name": "Python 3",
   "language": "python",
   "name": "python3"
  },
  "language_info": {
   "codemirror_mode": {
    "name": "ipython",
    "version": 3
   },
   "file_extension": ".py",
   "mimetype": "text/x-python",
   "name": "python",
   "nbconvert_exporter": "python",
   "pygments_lexer": "ipython3",
   "version": "3.6.2"
  }
 },
 "nbformat": 4,
 "nbformat_minor": 2
}
