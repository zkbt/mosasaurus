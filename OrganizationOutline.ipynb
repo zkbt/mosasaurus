{
 "cells": [
  {
   "cell_type": "markdown",
   "metadata": {},
   "source": [
    "**Determine the basic properties of this instrument.**\n",
    "\n",
    "Classes derived from the `Instrument` class handle all instrument-specific information, including\n",
    "- the reduction of CCD frames\n",
    "- the extraction of key information from headers\n",
    "- the mapping of reference positions to apertures\n",
    "- ...\n",
    "\n",
    "\n"
   ]
  },
  {
   "cell_type": "code",
   "execution_count": 1,
   "metadata": {
    "collapsed": true
   },
   "outputs": [],
   "source": [
    "from mosasaurus.instruments import LDSS3Cx"
   ]
  },
  {
   "cell_type": "markdown",
   "metadata": {},
   "source": [
    "-determine the basic properties of this target\n",
    "-determine the basic properties of this observation\n",
    "-identify data associated with this observation\n",
    "-calculate auxiliary information (e.g. barycentric correction)\n",
    "-create master calibration data relevant to this observation\n",
    "-identify likely cosmic rays in this image\n",
    "-define reference positions from which spectra should be extracted\n",
    "-identify relevant pixels, define extraction apertures\n",
    "-extract spectra, and visualize the process\n"
   ]
  }
 ],
 "metadata": {
  "anaconda-cloud": {},
  "kernelspec": {
   "display_name": "Python [conda env:astroconda]",
   "language": "python",
   "name": "conda-env-astroconda-py"
  },
  "language_info": {
   "codemirror_mode": {
    "name": "ipython",
    "version": 2
   },
   "file_extension": ".py",
   "mimetype": "text/x-python",
   "name": "python",
   "nbconvert_exporter": "python",
   "pygments_lexer": "ipython2",
   "version": "2.7.13"
  }
 },
 "nbformat": 4,
 "nbformat_minor": 2
}
