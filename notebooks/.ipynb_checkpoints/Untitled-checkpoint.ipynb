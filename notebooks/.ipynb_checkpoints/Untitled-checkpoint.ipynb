{
 "cells": [
  {
   "cell_type": "code",
   "execution_count": 1,
   "metadata": {},
   "outputs": [],
   "source": [
    "# these are the backends on my laptop\n",
    "backends = ['GTKAgg', 'GTKCairo', 'MacOSX', 'Qt4Agg', 'Qt5Agg', 'TkAgg', 'WX', 'WXAgg', 'GTK3Cairo', 'GTK3Agg', 'WebAgg', 'nbAgg', 'agg', 'cairo', 'gdk', 'pdf', 'pgf', 'ps', 'svg', 'template']"
   ]
  },
  {
   "cell_type": "code",
   "execution_count": 8,
   "metadata": {},
   "outputs": [
    {
     "data": {
      "text/plain": [
       "'2.1.2'"
      ]
     },
     "execution_count": 8,
     "metadata": {},
     "output_type": "execute_result"
    }
   ],
   "source": [
    "import matplotlib\n",
    "matplotlib.__version__"
   ]
  },
  {
   "cell_type": "code",
   "execution_count": 6,
   "metadata": {},
   "outputs": [
    {
     "ename": "ImportError",
     "evalue": "Gtk* backend requires pygtk to be installed.",
     "output_type": "error",
     "traceback": [
      "\u001b[0;31m---------------------------------------------------------------------------\u001b[0m",
      "\u001b[0;31mModuleNotFoundError\u001b[0m                       Traceback (most recent call last)",
      "\u001b[0;32m~/anaconda3/envs/mosasaurus/lib/python3.6/site-packages/matplotlib/backends/backend_gtk.py\u001b[0m in \u001b[0;36m<module>\u001b[0;34m()\u001b[0m\n\u001b[1;32m     13\u001b[0m \u001b[0;32mtry\u001b[0m\u001b[0;34m:\u001b[0m\u001b[0;34m\u001b[0m\u001b[0m\n\u001b[0;32m---> 14\u001b[0;31m     \u001b[0;32mimport\u001b[0m \u001b[0mgobject\u001b[0m\u001b[0;34m\u001b[0m\u001b[0m\n\u001b[0m\u001b[1;32m     15\u001b[0m     \u001b[0;32mimport\u001b[0m \u001b[0mgtk\u001b[0m\u001b[0;34m;\u001b[0m \u001b[0mgdk\u001b[0m \u001b[0;34m=\u001b[0m \u001b[0mgtk\u001b[0m\u001b[0;34m.\u001b[0m\u001b[0mgdk\u001b[0m\u001b[0;34m\u001b[0m\u001b[0m\n",
      "\u001b[0;31mModuleNotFoundError\u001b[0m: No module named 'gobject'",
      "\nDuring handling of the above exception, another exception occurred:\n",
      "\u001b[0;31mImportError\u001b[0m                               Traceback (most recent call last)",
      "\u001b[0;32m<ipython-input-6-661525c6b717>\u001b[0m in \u001b[0;36m<module>\u001b[0;34m()\u001b[0m\n\u001b[1;32m      2\u001b[0m \u001b[0;32mfor\u001b[0m \u001b[0mb\u001b[0m \u001b[0;32min\u001b[0m \u001b[0mbackends\u001b[0m\u001b[0;34m:\u001b[0m\u001b[0;34m\u001b[0m\u001b[0m\n\u001b[1;32m      3\u001b[0m     \u001b[0;32mtry\u001b[0m\u001b[0;34m:\u001b[0m\u001b[0;34m\u001b[0m\u001b[0m\n\u001b[0;32m----> 4\u001b[0;31m         \u001b[0;32mimport\u001b[0m \u001b[0mmatplotlib\u001b[0m\u001b[0;34m.\u001b[0m\u001b[0mpyplot\u001b[0m \u001b[0;32mas\u001b[0m \u001b[0mplt\u001b[0m\u001b[0;34m,\u001b[0m \u001b[0mnumpy\u001b[0m \u001b[0;32mas\u001b[0m \u001b[0mnp\u001b[0m\u001b[0;34m\u001b[0m\u001b[0m\n\u001b[0m\u001b[1;32m      5\u001b[0m         \u001b[0mplt\u001b[0m\u001b[0;34m.\u001b[0m\u001b[0mswitch_backend\u001b[0m\u001b[0;34m(\u001b[0m\u001b[0mb\u001b[0m\u001b[0;34m)\u001b[0m\u001b[0;34m\u001b[0m\u001b[0m\n\u001b[1;32m      6\u001b[0m         \u001b[0;32mfrom\u001b[0m \u001b[0mcraftroom\u001b[0m\u001b[0;34m.\u001b[0m\u001b[0mdisplays\u001b[0m\u001b[0;34m.\u001b[0m\u001b[0mloupe\u001b[0m \u001b[0;32mimport\u001b[0m \u001b[0mloupe\u001b[0m\u001b[0;34m\u001b[0m\u001b[0m\n",
      "\u001b[0;32m~/anaconda3/envs/mosasaurus/lib/python3.6/site-packages/matplotlib/pyplot.py\u001b[0m in \u001b[0;36m<module>\u001b[0;34m()\u001b[0m\n\u001b[1;32m    114\u001b[0m \u001b[0;31m## Global ##\u001b[0m\u001b[0;34m\u001b[0m\u001b[0;34m\u001b[0m\u001b[0m\n\u001b[1;32m    115\u001b[0m \u001b[0;34m\u001b[0m\u001b[0m\n\u001b[0;32m--> 116\u001b[0;31m \u001b[0m_backend_mod\u001b[0m\u001b[0;34m,\u001b[0m \u001b[0mnew_figure_manager\u001b[0m\u001b[0;34m,\u001b[0m \u001b[0mdraw_if_interactive\u001b[0m\u001b[0;34m,\u001b[0m \u001b[0m_show\u001b[0m \u001b[0;34m=\u001b[0m \u001b[0mpylab_setup\u001b[0m\u001b[0;34m(\u001b[0m\u001b[0;34m)\u001b[0m\u001b[0;34m\u001b[0m\u001b[0m\n\u001b[0m\u001b[1;32m    117\u001b[0m \u001b[0;34m\u001b[0m\u001b[0m\n\u001b[1;32m    118\u001b[0m \u001b[0m_IP_REGISTERED\u001b[0m \u001b[0;34m=\u001b[0m \u001b[0;32mNone\u001b[0m\u001b[0;34m\u001b[0m\u001b[0m\n",
      "\u001b[0;32m~/anaconda3/envs/mosasaurus/lib/python3.6/site-packages/matplotlib/backends/__init__.py\u001b[0m in \u001b[0;36mpylab_setup\u001b[0;34m(name)\u001b[0m\n\u001b[1;32m     58\u001b[0m     \u001b[0;31m# imports. 0 means only perform absolute imports.\u001b[0m\u001b[0;34m\u001b[0m\u001b[0;34m\u001b[0m\u001b[0m\n\u001b[1;32m     59\u001b[0m     backend_mod = __import__(backend_name, globals(), locals(),\n\u001b[0;32m---> 60\u001b[0;31m                              [backend_name], 0)\n\u001b[0m\u001b[1;32m     61\u001b[0m \u001b[0;34m\u001b[0m\u001b[0m\n\u001b[1;32m     62\u001b[0m     \u001b[0;31m# Things we pull in from all backends\u001b[0m\u001b[0;34m\u001b[0m\u001b[0;34m\u001b[0m\u001b[0m\n",
      "\u001b[0;32m~/anaconda3/envs/mosasaurus/lib/python3.6/site-packages/matplotlib/backends/backend_gtk.py\u001b[0m in \u001b[0;36m<module>\u001b[0;34m()\u001b[0m\n\u001b[1;32m     16\u001b[0m     \u001b[0;32mimport\u001b[0m \u001b[0mpango\u001b[0m\u001b[0;34m\u001b[0m\u001b[0m\n\u001b[1;32m     17\u001b[0m \u001b[0;32mexcept\u001b[0m \u001b[0mImportError\u001b[0m\u001b[0;34m:\u001b[0m\u001b[0;34m\u001b[0m\u001b[0m\n\u001b[0;32m---> 18\u001b[0;31m     \u001b[0;32mraise\u001b[0m \u001b[0mImportError\u001b[0m\u001b[0;34m(\u001b[0m\u001b[0;34m\"Gtk* backend requires pygtk to be installed.\"\u001b[0m\u001b[0;34m)\u001b[0m\u001b[0;34m\u001b[0m\u001b[0m\n\u001b[0m\u001b[1;32m     19\u001b[0m \u001b[0;34m\u001b[0m\u001b[0m\n\u001b[1;32m     20\u001b[0m \u001b[0mpygtk_version_required\u001b[0m \u001b[0;34m=\u001b[0m \u001b[0;34m(\u001b[0m\u001b[0;36m2\u001b[0m\u001b[0;34m,\u001b[0m\u001b[0;36m4\u001b[0m\u001b[0;34m,\u001b[0m\u001b[0;36m0\u001b[0m\u001b[0;34m)\u001b[0m\u001b[0;34m\u001b[0m\u001b[0m\n",
      "\u001b[0;31mImportError\u001b[0m: Gtk* backend requires pygtk to be installed."
     ]
    }
   ],
   "source": [
    "\n",
    "import matplotlib.pyplot as plt, numpy as np\n",
    "plt.switch_backend(b)\n",
    "from craftroom.displays.loupe import loupe\n",
    "print(\"Now using {}\".format(matplotlib.get_backend()))\n",
    "x, y = np.meshgrid(np.linspace(0, 0.5, 50), np.linspace(0, 1, 100))\n",
    "z = np.random.normal(0, 1, x.shape) + x*y*100\n",
    "l = loupe()\n",
    "l.setup(z)\n",
    "l.run()\n",
    "\n",
    "    \n",
    "\n"
   ]
  },
  {
   "cell_type": "code",
   "execution_count": 2,
   "metadata": {},
   "outputs": [],
   "source": []
  },
  {
   "cell_type": "code",
   "execution_count": null,
   "metadata": {},
   "outputs": [
    {
     "name": "stdout",
     "output_type": "stream",
     "text": [
      "        [loupe] setting up loupe\n",
      "        [loupe] \n",
      "        [loupe] your self.options include:\n",
      "        [loupe]    [q]uit\n",
      "        [loupe]    move the [c]rosshair, and plot slicey along it\n",
      "        [loupe]    nudge the crosshair [up]\n",
      "        [loupe]    nudge the crosshair [down]\n",
      "        [loupe]    nudge the crosshair [left]\n",
      "        [loupe]    nudge the crosshair [right]\n",
      "        [iplot] waiting for a key to be pressed and released\n",
      "        [iplot] \"c\" pressed at 46.43375, 26.21874999999999\n",
      "        [loupe] \"c\" was pressed\n",
      "        [loupe] \n",
      "        [loupe] your self.options include:\n",
      "        [loupe]    [q]uit\n",
      "        [loupe]    move the [c]rosshair, and plot slicey along it\n",
      "        [loupe]    nudge the crosshair [up]\n",
      "        [loupe]    nudge the crosshair [down]\n",
      "        [loupe]    nudge the crosshair [left]\n",
      "        [loupe]    nudge the crosshair [right]\n",
      "        [iplot] waiting for a key to be pressed and released\n",
      "        [iplot] \"c\" pressed at 13.763749999999998, 37.259999999999984\n",
      "        [loupe] \"c\" was pressed\n",
      "        [loupe] \n",
      "        [loupe] your self.options include:\n",
      "        [loupe]    [q]uit\n",
      "        [loupe]    move the [c]rosshair, and plot slicey along it\n",
      "        [loupe]    nudge the crosshair [up]\n",
      "        [loupe]    nudge the crosshair [down]\n",
      "        [loupe]    nudge the crosshair [left]\n",
      "        [loupe]    nudge the crosshair [right]\n",
      "        [iplot] waiting for a key to be pressed and released\n",
      "        [iplot] \"c\" pressed at 22.0825, 13.664999999999988\n",
      "        [loupe] \"c\" was pressed\n",
      "        [loupe] \n",
      "        [loupe] your self.options include:\n",
      "        [loupe]    [q]uit\n",
      "        [loupe]    move the [c]rosshair, and plot slicey along it\n",
      "        [loupe]    nudge the crosshair [up]\n",
      "        [loupe]    nudge the crosshair [down]\n",
      "        [loupe]    nudge the crosshair [left]\n",
      "        [loupe]    nudge the crosshair [right]\n",
      "        [iplot] waiting for a key to be pressed and released\n",
      "        [iplot] \"c\" pressed at 69.2725, 18.65624999999999\n",
      "        [loupe] \"c\" was pressed\n",
      "        [loupe] \n",
      "        [loupe] your self.options include:\n",
      "        [loupe]    [q]uit\n",
      "        [loupe]    move the [c]rosshair, and plot slicey along it\n",
      "        [loupe]    nudge the crosshair [up]\n",
      "        [loupe]    nudge the crosshair [down]\n",
      "        [loupe]    nudge the crosshair [left]\n",
      "        [loupe]    nudge the crosshair [right]\n",
      "        [iplot] waiting for a key to be pressed and released\n",
      "        [iplot] \"c\" pressed at 80.1625, 40.587499999999984\n",
      "        [loupe] \"c\" was pressed\n",
      "        [loupe] \n",
      "        [loupe] your self.options include:\n",
      "        [loupe]    [q]uit\n",
      "        [loupe]    move the [c]rosshair, and plot slicey along it\n",
      "        [loupe]    nudge the crosshair [up]\n",
      "        [loupe]    nudge the crosshair [down]\n",
      "        [loupe]    nudge the crosshair [left]\n",
      "        [loupe]    nudge the crosshair [right]\n",
      "        [iplot] waiting for a key to be pressed and released\n",
      "        [iplot] \"c\" pressed at 31.157499999999995, 40.587499999999984\n",
      "        [loupe] \"c\" was pressed\n",
      "        [loupe] \n",
      "        [loupe] your self.options include:\n",
      "        [loupe]    [q]uit\n",
      "        [loupe]    move the [c]rosshair, and plot slicey along it\n",
      "        [loupe]    nudge the crosshair [up]\n",
      "        [loupe]    nudge the crosshair [down]\n",
      "        [loupe]    nudge the crosshair [left]\n",
      "        [loupe]    nudge the crosshair [right]\n",
      "        [iplot] waiting for a key to be pressed and released\n",
      "        [iplot] \"c\" pressed at 14.06625, 5.194999999999989\n",
      "        [loupe] \"c\" was pressed\n",
      "        [loupe] \n",
      "        [loupe] your self.options include:\n",
      "        [loupe]    [q]uit\n",
      "        [loupe]    move the [c]rosshair, and plot slicey along it\n",
      "        [loupe]    nudge the crosshair [up]\n",
      "        [loupe]    nudge the crosshair [down]\n",
      "        [loupe]    nudge the crosshair [left]\n",
      "        [loupe]    nudge the crosshair [right]\n",
      "        [iplot] waiting for a key to be pressed and released\n",
      "        [iplot] \"c\" pressed at 75.47375, 4.43874999999999\n",
      "        [loupe] \"c\" was pressed\n",
      "        [loupe] \n",
      "        [loupe] your self.options include:\n",
      "        [loupe]    [q]uit\n",
      "        [loupe]    move the [c]rosshair, and plot slicey along it\n",
      "        [loupe]    nudge the crosshair [up]\n",
      "        [loupe]    nudge the crosshair [down]\n",
      "        [loupe]    nudge the crosshair [left]\n",
      "        [loupe]    nudge the crosshair [right]\n",
      "        [iplot] waiting for a key to be pressed and released\n",
      "        [iplot] \"c\" pressed at 83.94375, 29.99999999999999\n",
      "        [loupe] \"c\" was pressed\n",
      "        [loupe] \n",
      "        [loupe] your self.options include:\n",
      "        [loupe]    [q]uit\n",
      "        [loupe]    move the [c]rosshair, and plot slicey along it\n",
      "        [loupe]    nudge the crosshair [up]\n",
      "        [loupe]    nudge the crosshair [down]\n",
      "        [loupe]    nudge the crosshair [left]\n",
      "        [loupe]    nudge the crosshair [right]\n",
      "        [iplot] waiting for a key to be pressed and released\n",
      "        [iplot] \"c\" pressed at 87.12, 39.37749999999998\n",
      "        [loupe] \"c\" was pressed\n",
      "        [loupe] \n",
      "        [loupe] your self.options include:\n",
      "        [loupe]    [q]uit\n",
      "        [loupe]    move the [c]rosshair, and plot slicey along it\n",
      "        [loupe]    nudge the crosshair [up]\n",
      "        [loupe]    nudge the crosshair [down]\n",
      "        [loupe]    nudge the crosshair [left]\n",
      "        [loupe]    nudge the crosshair [right]\n",
      "        [iplot] waiting for a key to be pressed and released\n",
      "        [iplot] \"c\" pressed at 24.2, 37.86499999999999\n",
      "        [loupe] \"c\" was pressed\n",
      "        [loupe] \n",
      "        [loupe] your self.options include:\n",
      "        [loupe]    [q]uit\n",
      "        [loupe]    move the [c]rosshair, and plot slicey along it\n",
      "        [loupe]    nudge the crosshair [up]\n",
      "        [loupe]    nudge the crosshair [down]\n",
      "        [loupe]    nudge the crosshair [left]\n",
      "        [loupe]    nudge the crosshair [right]\n",
      "        [iplot] waiting for a key to be pressed and released\n"
     ]
    }
   ],
   "source": [
    "from craftroom.displays.loupe import loupe\n",
    "\n",
    "x, y = np.meshgrid(np.linspace(0, 0.5, 50), np.linspace(0, 1, 100))\n",
    "\n",
    "z = np.random.normal(0, 1, x.shape) + x*y*100\n",
    "l = loupe()\n",
    "l.setup(z)\n",
    "l.run()"
   ]
  },
  {
   "cell_type": "code",
   "execution_count": null,
   "metadata": {},
   "outputs": [],
   "source": []
  }
 ],
 "metadata": {
  "kernelspec": {
   "display_name": "Python 3",
   "language": "python",
   "name": "python3"
  },
  "language_info": {
   "codemirror_mode": {
    "name": "ipython",
    "version": 3
   },
   "file_extension": ".py",
   "mimetype": "text/x-python",
   "name": "python",
   "nbconvert_exporter": "python",
   "pygments_lexer": "ipython3",
   "version": "3.6.2"
  }
 },
 "nbformat": 4,
 "nbformat_minor": 2
}
