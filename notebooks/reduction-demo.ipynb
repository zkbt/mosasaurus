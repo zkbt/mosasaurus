{
 "cells": [
  {
   "cell_type": "markdown",
   "metadata": {},
   "source": [
    "# mosasaurus example\n",
    "This notebook shows how to run mosasaurus to extract spectra from a sample dataset. In this example, there's a small sample dataset of raw LDSS3C images stored in the directory `/Users/zkbt/Cosmos/Data/mosaurusexample/data/ut140809`. These data come from a transit observation of WASP-94Ab, and contain one of every expected filetype for LDSS3C."
   ]
  },
  {
   "cell_type": "markdown",
   "metadata": {},
   "source": [
    "### instrument\n",
    "First we create an `instrument` object for LDSS3C. This contains all the instrument-specific information mosasaurus needs to be aware of (how to calibrate CCD images, what information to pull out of headers, where to find wavelength calibration information, etc...). We can also use it to set up some of the basics for how we should conduct the extraction for this instrument (how big of a subarray to think about for each target, parameters for extraction apertures, is it worth trying to zap cosmic rays?)."
   ]
  },
  {
   "cell_type": "code",
   "execution_count": 1,
   "metadata": {},
   "outputs": [
    {
     "name": "stdout",
     "output_type": "stream",
     "text": [
      "Using matplotlib backend: MacOSX\n",
      "       [ldss3c] Here is a brief summary of ldss3c.\n",
      "\n",
      "                 {'_line': inf,\n",
      "                  '_mute': False,\n",
      "                  '_pithy': False,\n",
      "                  '_prefix': '       [ldss3c] ',\n",
      "                  'alignmentranges': {'$H\\\\alpha$': (6425, 6725),\n",
      "                                      '$H\\\\beta$': (4750, 5050),\n",
      "                                      '$H_2O$': (9200, 9700),\n",
      "                                      '$O_2$ - A': (7500, 7800),\n",
      "                                      '$O_2$ - B': (6750, 7050),\n",
      "                                      'Ca triplet': (8450, 8750)},\n",
      "                  'arclamps': ['He', 'Ne', 'Ar'],\n",
      "                  'baseDirectory': '/Users/zkbt/Cosmos/Data/mosaurusexample',\n",
      "                  'binning': 2,\n",
      "                  'dataDirectory': '/Users/zkbt/Cosmos/Data/mosaurusexample/data/',\n",
      "                  'databottom': 0,\n",
      "                  'dataleft': 0,\n",
      "                  'dataright': 512,\n",
      "                  'datatop': 2048,\n",
      "                  'detectorcalibrations': ['dark', 'bias', 'flat'],\n",
      "                  'disperser': 'vph-all',\n",
      "                  'disperserDirectory': '/Users/zkbt/Dropbox/code/python/packages/mosasaurus/data/LDSS3C/vph-all/',\n",
      "                  'dispersertype': 'grism',\n",
      "                  'extractables': ['science', 'reference'],\n",
      "                  'extractionDirectory': '/Users/zkbt/Cosmos/Data/mosaurusexample/extraction/',\n",
      "                  'extractiondefaults': {'correlationAnchors': [8498.0, 8542.0, 8662.0],\n",
      "                                         'correlationRange': [8350, 8800],\n",
      "                                         'correlationSmooth': 2,\n",
      "                                         'narrowest': 4,\n",
      "                                         'numberofapertures': 5,\n",
      "                                         'skyGap': 2,\n",
      "                                         'skyWidth': 10,\n",
      "                                         'spatialsubarray': 200,\n",
      "                                         'traceOrder': 2,\n",
      "                                         'wavelengthblueward': inf,\n",
      "                                         'wavelengthredward': inf,\n",
      "                                         'widest': 20,\n",
      "                                         'zapcosmics': False},\n",
      "                  'gains': array([1.72, 1.49]),\n",
      "                  'grism': 'vph-all',\n",
      "                  'name': 'LDSS3C',\n",
      "                  'nametag': 'ldss3c',\n",
      "                  'namps': 2,\n",
      "                  'observatory': <EarthLocation (1845724.63191578, -5270547.45291484, -3075815.29733416) m>,\n",
      "                  'sitename': 'LCO',\n",
      "                  'telescope': 'Magellan',\n",
      "                  'uniformwavelengths': array([ 4000,  4001,  4002, ..., 10497, 10498, 10499]),\n",
      "                  'wavelength2pixelsFile': '/Users/zkbt/Dropbox/code/python/packages/mosasaurus/data/LDSS3C/vph-all/vph-all_wavelength_identifications.txt',\n",
      "                  'wavelengthsFile': '/Users/zkbt/Dropbox/code/python/packages/mosasaurus/data/LDSS3C/vph-all/HeNeAr.txt',\n",
      "                  'workingDirectory': '/Users/zkbt/Cosmos/Data/mosaurusexample/working/',\n",
      "                  'xsize': 1024,\n",
      "                  'ysize': 2048}\n",
      "\n"
     ]
    }
   ],
   "source": [
    "%matplotlib auto\n",
    "\n",
    "# create an instrument with the appropriate settings\n",
    "from mosasaurus.instruments import LDSS3C\n",
    "i = LDSS3C(grism='vph-all')\n",
    "\n",
    "# set up the basic directory structure, where `data/` should be found\n",
    "path = '/Users/zkbt/Cosmos/Data/mosaurusexample'\n",
    "i.setupDirectories(path)\n",
    "\n",
    "# set the extraction defaults\n",
    "i.extractiondefaults['spatialsubarray'] = 200\n",
    "i.extractiondefaults['narrowest'] = 4\n",
    "i.extractiondefaults['widest'] = 20\n",
    "i.extractiondefaults['numberofapertures'] = 5\n",
    "i.extractiondefaults['zapcosmics'] = False\n",
    "\n",
    "# print out a summary of this instrument\n",
    "i.summarize()"
   ]
  },
  {
   "cell_type": "markdown",
   "metadata": {},
   "source": [
    "### target\n",
    "Next, we create a `target` object for the star we were looking at. This is mostly to pull out the RA and Dec for calculating barycentric corrections to the observation times."
   ]
  },
  {
   "cell_type": "code",
   "execution_count": 2,
   "metadata": {},
   "outputs": [
    {
     "name": "stdout",
     "output_type": "stream",
     "text": [
      "         [star] made <WASP-94A> from SIMBAD\n",
      "       [target] Here is a brief summary of target.\n",
      "\n",
      "                 {'_line': inf,\n",
      "                  '_mute': False,\n",
      "                  '_pithy': False,\n",
      "                  '_prefix': '       [target] ',\n",
      "                  'name': 'WASP-94Ab',\n",
      "                  'nametag': 'target',\n",
      "                  'star': <WASP-94A>,\n",
      "                  'starname': 'WASP-94A'}\n",
      "\n",
      "         [star] Here is a brief summary of star.\n",
      "\n",
      "                 {'_line': inf,\n",
      "                  '_mute': False,\n",
      "                  '_pithy': False,\n",
      "                  '_prefix': '         [star] ',\n",
      "                  'attributes': {'V': 10.050000190734863, 'comment': b'F8'},\n",
      "                  'icrs': <SkyCoord (ICRS): (ra, dec) in deg\n",
      "                     (313.78311, -34.13555306)>,\n",
      "                  'name': 'WASP-94A',\n",
      "                  'nametag': 'star',\n",
      "                  'pmdec': -46.046,\n",
      "                  'pmra': 24.868,\n",
      "                  'simbadname': b'WASP-94A',\n",
      "                  'table': <Table masked=True length=1>\n",
      "                 MAIN_ID        RA           DEC      ...      SP_BIBCODE      FLUX_V  FLUX_K\n",
      "                             \"h:m:s\"       \"d:m:s\"    ...                       mag     mag  \n",
      "                  object      str13         str13     ...        object       float32 float32\n",
      "                 -------- ------------- ------------- ... ------------------- ------- -------\n",
      "                 WASP-94A 20 55 07.9464 -34 08 07.991 ... 2014A&A...572A..49N   10.05   8.874}\n",
      "\n"
     ]
    }
   ],
   "source": [
    "# create a target, pulling values from simbad\n",
    "from mosasaurus.Target import Target\n",
    "import astropy.units as u\n",
    "t = Target(starname='WASP-94A', name='WASP-94Ab')\n",
    "t.summarize()\n",
    "t.star.summarize()"
   ]
  },
  {
   "cell_type": "markdown",
   "metadata": {},
   "source": [
    "### night\n",
    "We create a `night` object to store information related to this night of observations. It will be connected to a data directory. For this, the night of `ut140809`, it expects a group of FITS images to be stored inside the base directory in `data/ut140809`. One thing this a `night` can do is set up a log of all the files, pulling information from their FITS headers."
   ]
  },
  {
   "cell_type": "code",
   "execution_count": 3,
   "metadata": {},
   "outputs": [
    {
     "name": "stdout",
     "output_type": "stream",
     "text": [
      "        [night] Creating a log of all files on ut140809.\n",
      "        [night] /Users/zkbt/Cosmos/Data/mosaurusexample/data/ut140809 contains 53 files matching \"ccd*c1.fits\"\n",
      "        [night] Loaded a log file from /Users/zkbt/Cosmos/Data/mosaurusexample/working/nightly_log_ut140809.txt.\n",
      "        [night] Loaded a condensed summary from /Users/zkbt/Cosmos/Data/mosaurusexample/working/nightly_summary_ut140809.txt.\n",
      "        [night] Creating a log of all files on ut140809.\n",
      "        [night] /Users/zkbt/Cosmos/Data/mosaurusexample/data/ut140809 contains 53 files matching \"ccd*c1.fits\"\n",
      "        [night] Loaded a log file from /Users/zkbt/Cosmos/Data/mosaurusexample/working/nightly_log_ut140809.txt.\n",
      "        [night] Loaded a condensed summary from /Users/zkbt/Cosmos/Data/mosaurusexample/working/nightly_summary_ut140809.txt.\n"
     ]
    }
   ],
   "source": [
    "# create a night to analyze\n",
    "from mosasaurus.Night import Night\n",
    "n = Night('ut140809', instrument=i)\n",
    "n.createNightlyLog(remake=False)"
   ]
  },
  {
   "cell_type": "markdown",
   "metadata": {},
   "source": [
    "### observation\n",
    "The core unit of a `mosasaurus` analysis is an `observation`, pointing to a specific target with a specific instrument on a specific night. An observation will need to set up text files that indicate which file prefixes are associated with which type of file needed for a reduction."
   ]
  },
  {
   "cell_type": "code",
   "execution_count": 4,
   "metadata": {},
   "outputs": [
    {
     "name": "stdout",
     "output_type": "stream",
     "text": [
      "  [observation] loaded a list of [dark] files from /Users/zkbt/Cosmos/Data/mosaurusexample/working/ut140809_WASP-94Ab/files/filesfordark.txt\n",
      "  [observation] loaded a list of [bias] files from /Users/zkbt/Cosmos/Data/mosaurusexample/working/ut140809_WASP-94Ab/files/filesforbias.txt\n",
      "  [observation] loaded a list of [flat] files from /Users/zkbt/Cosmos/Data/mosaurusexample/working/ut140809_WASP-94Ab/files/filesforflat.txt\n",
      "  [observation] loaded a list of [He] files from /Users/zkbt/Cosmos/Data/mosaurusexample/working/ut140809_WASP-94Ab/files/filesforHe.txt\n",
      "  [observation] loaded a list of [Ne] files from /Users/zkbt/Cosmos/Data/mosaurusexample/working/ut140809_WASP-94Ab/files/filesforNe.txt\n",
      "  [observation] loaded a list of [Ar] files from /Users/zkbt/Cosmos/Data/mosaurusexample/working/ut140809_WASP-94Ab/files/filesforAr.txt\n",
      "  [observation] loaded a list of [science] files from /Users/zkbt/Cosmos/Data/mosaurusexample/working/ut140809_WASP-94Ab/files/filesforscience.txt\n",
      "  [observation] loaded a list of [reference] files from /Users/zkbt/Cosmos/Data/mosaurusexample/working/ut140809_WASP-94Ab/files/filesforreference.txt\n",
      "      [headers] loading cube of image headers.\n",
      "      [headers] header timeseries loaded from /Users/zkbt/Cosmos/Data/mosaurusexample/working/ut140809_WASP-94Ab/headers.txt\n",
      "  [observation] loaded a list of [dark] files from /Users/zkbt/Cosmos/Data/mosaurusexample/working/ut140809_WASP-94Ab/files/filesfordark.txt\n",
      "  [observation] loaded a list of [bias] files from /Users/zkbt/Cosmos/Data/mosaurusexample/working/ut140809_WASP-94Ab/files/filesforbias.txt\n",
      "  [observation] loaded a list of [flat] files from /Users/zkbt/Cosmos/Data/mosaurusexample/working/ut140809_WASP-94Ab/files/filesforflat.txt\n",
      "  [observation] loaded a list of [He] files from /Users/zkbt/Cosmos/Data/mosaurusexample/working/ut140809_WASP-94Ab/files/filesforHe.txt\n",
      "  [observation] loaded a list of [Ne] files from /Users/zkbt/Cosmos/Data/mosaurusexample/working/ut140809_WASP-94Ab/files/filesforNe.txt\n",
      "  [observation] loaded a list of [Ar] files from /Users/zkbt/Cosmos/Data/mosaurusexample/working/ut140809_WASP-94Ab/files/filesforAr.txt\n",
      "  [observation] loaded a list of [science] files from /Users/zkbt/Cosmos/Data/mosaurusexample/working/ut140809_WASP-94Ab/files/filesforscience.txt\n",
      "  [observation] loaded a list of [reference] files from /Users/zkbt/Cosmos/Data/mosaurusexample/working/ut140809_WASP-94Ab/files/filesforreference.txt\n",
      "      [headers] loading cube of image headers.\n",
      "      [headers] header timeseries loaded from /Users/zkbt/Cosmos/Data/mosaurusexample/working/ut140809_WASP-94Ab/headers.txt\n"
     ]
    }
   ],
   "source": [
    "\n",
    "# create an observation\n",
    "from mosasaurus.Observation import Observation\n",
    "o = Observation(t, i, n)\n",
    "o.setupFilePrefixes(science=['wasp94'], reference=['wasp94 thru mask'], flat=['flat'])\n"
   ]
  },
  {
   "cell_type": "markdown",
   "metadata": {},
   "source": [
    "### reducer\n",
    "The `reducer` object will go in and extract spectra from that observation. Frankly, I'm not entirely sure anymore why this is distinct from an `observation` -- maybe we should just move the (very few) features of the `reducer` into `observation`, so we can just say `o.reduce()` straight away?"
   ]
  },
  {
   "cell_type": "code",
   "execution_count": 5,
   "metadata": {},
   "outputs": [
    {
     "name": "stdout",
     "output_type": "stream",
     "text": [
      "      [reducer] the reducing mosasaurus is grabbing a fly spanker to analyze\n",
      "                 [Observation of <Target WASP-94Ab> with <Spectrograph LDSS3C> on <Night ut140809>]\n",
      "  [calibration] setting up calibrator\n",
      "  [calibration] creating master images for dict_keys(['dark', 'bias', 'flat', 'He', 'Ne', 'Ar', 'science', 'reference'])\n",
      "  [calibration] creating a stacked master image for dark\n",
      "  [calibration] populating the master dark image\n",
      "  [calibration] loaded dark from /Users/zkbt/Cosmos/Data/mosaurusexample/working/ut140809_WASP-94Ab/calibrations/master_dark.fits\n",
      "  [calibration] creating a stacked master image for bias\n",
      "  [calibration] populating the master bias image\n",
      "  [calibration] loaded bias from /Users/zkbt/Cosmos/Data/mosaurusexample/working/ut140809_WASP-94Ab/calibrations/master_bias.fits\n",
      "  [calibration] creating a stacked master image for flat\n",
      "  [calibration] populating the master flat image\n",
      "  [calibration] loaded flat from /Users/zkbt/Cosmos/Data/mosaurusexample/working/ut140809_WASP-94Ab/calibrations/master_flat.fits\n",
      "  [calibration] creating a stacked master image for He\n",
      "  [calibration] populating the master He image\n",
      "  [calibration] loaded He from /Users/zkbt/Cosmos/Data/mosaurusexample/working/ut140809_WASP-94Ab/calibrations/master_He.fits\n",
      "  [calibration] creating a stacked master image for Ne\n",
      "  [calibration] populating the master Ne image\n",
      "  [calibration] loaded Ne from /Users/zkbt/Cosmos/Data/mosaurusexample/working/ut140809_WASP-94Ab/calibrations/master_Ne.fits\n",
      "  [calibration] creating a stacked master image for Ar\n",
      "  [calibration] populating the master Ar image\n",
      "  [calibration] loaded Ar from /Users/zkbt/Cosmos/Data/mosaurusexample/working/ut140809_WASP-94Ab/calibrations/master_Ar.fits\n",
      "  [calibration] creating a stacked master image for science\n",
      "  [calibration] populating the master science image\n",
      "  [calibration] loaded science from /Users/zkbt/Cosmos/Data/mosaurusexample/working/ut140809_WASP-94Ab/calibrations/master_science.fits\n",
      "  [calibration] creating a stacked master image for reference\n",
      "  [calibration] populating the master reference image\n",
      "  [calibration] loaded reference from /Users/zkbt/Cosmos/Data/mosaurusexample/working/ut140809_WASP-94Ab/calibrations/master_reference.fits\n",
      "  [calibration] populating bad pixel mask\n",
      "  [calibration] loaded bad pixel mask from /Users/zkbt/Cosmos/Data/mosaurusexample/working/ut140809_WASP-94Ab/calibrations/master_badpixels.fits\n",
      "  [calibration] calibration data are processed and ready for use\n",
      "         [mask] created a mask, to store extraction regions\n",
      "      [reducer] mosasaurus is ready to reduce\n",
      "      [reducer] starting reductions for [Observation of <Target WASP-94Ab> with <Spectrograph LDSS3C> on <Night ut140809>]\n",
      "  [calibration] creating master images for dict_keys(['dark', 'bias', 'flat', 'He', 'Ne', 'Ar', 'science', 'reference'])\n",
      "  [calibration] creating a stacked master image for dark\n",
      "  [calibration] populating the master dark image\n",
      "  [calibration] loaded dark from /Users/zkbt/Cosmos/Data/mosaurusexample/working/ut140809_WASP-94Ab/calibrations/master_dark.fits\n",
      "  [calibration] creating a stacked master image for bias\n",
      "  [calibration] populating the master bias image\n",
      "  [calibration] loaded bias from /Users/zkbt/Cosmos/Data/mosaurusexample/working/ut140809_WASP-94Ab/calibrations/master_bias.fits\n",
      "  [calibration] creating a stacked master image for flat\n",
      "  [calibration] populating the master flat image\n",
      "  [calibration] loaded flat from /Users/zkbt/Cosmos/Data/mosaurusexample/working/ut140809_WASP-94Ab/calibrations/master_flat.fits\n",
      "  [calibration] creating a stacked master image for He\n",
      "  [calibration] populating the master He image\n",
      "  [calibration] loaded He from /Users/zkbt/Cosmos/Data/mosaurusexample/working/ut140809_WASP-94Ab/calibrations/master_He.fits\n",
      "  [calibration] creating a stacked master image for Ne\n",
      "  [calibration] populating the master Ne image\n",
      "  [calibration] loaded Ne from /Users/zkbt/Cosmos/Data/mosaurusexample/working/ut140809_WASP-94Ab/calibrations/master_Ne.fits\n",
      "  [calibration] creating a stacked master image for Ar\n",
      "  [calibration] populating the master Ar image\n",
      "  [calibration] loaded Ar from /Users/zkbt/Cosmos/Data/mosaurusexample/working/ut140809_WASP-94Ab/calibrations/master_Ar.fits\n",
      "  [calibration] creating a stacked master image for science\n",
      "  [calibration] populating the master science image\n",
      "  [calibration] loaded science from /Users/zkbt/Cosmos/Data/mosaurusexample/working/ut140809_WASP-94Ab/calibrations/master_science.fits\n",
      "  [calibration] creating a stacked master image for reference\n",
      "  [calibration] populating the master reference image\n",
      "  [calibration] loaded reference from /Users/zkbt/Cosmos/Data/mosaurusexample/working/ut140809_WASP-94Ab/calibrations/master_reference.fits\n",
      "  [calibration] populating bad pixel mask\n",
      "  [calibration] loaded bad pixel mask from /Users/zkbt/Cosmos/Data/mosaurusexample/working/ut140809_WASP-94Ab/calibrations/master_badpixels.fits\n",
      "  [calibration] calibration data are processed and ready for use\n",
      "         [mask] Extraction centers were already defined; loading them from /Users/zkbt/Cosmos/Data/mosaurusexample/working/ut140809_WASP-94Ab/extraction_default/extractionCenters.txt\n",
      "         [mask] extraction centers are\n",
      "         [mask]    x=[753. 713.]\n",
      "         [mask]    y=[1062. 1062.]\n",
      "     [aperture] created a spectroscopic aperture at (753.0, 1062.0)\n",
      "     [aperture] populating calibration stamps\n",
      "     [aperture] loaded calibration stamps from /Users/zkbt/Cosmos/Data/mosaurusexample/working/ut140809_WASP-94Ab/extraction_default/aperture_753_1062/calibStamps_aperture_753_1062.npy\n",
      "     [aperture] created a spectroscopic aperture at (713.0, 1062.0)\n",
      "     [aperture] populating calibration stamps\n",
      "     [aperture] loaded calibration stamps from /Users/zkbt/Cosmos/Data/mosaurusexample/working/ut140809_WASP-94Ab/extraction_default/aperture_713_1062/calibStamps_aperture_713_1062.npy\n",
      "         [mask] looping through all frames and extracting all spectra in them\n",
      "         [mask] making sure all spectra have been extracted\n",
      "         [mask] extracting 2 spectra from image #ccd1001\n",
      "     [aperture] extracting spectrum from image ccd1001\n",
      "     [aperture] populating the trace parameters\n",
      "        [trace]  The current aperture sizes are [ 4.  8. 12. 16. 20.].\n",
      "        [trace] loaded trace parameters to /Users/zkbt/Cosmos/Data/mosaurusexample/working/ut140809_WASP-94Ab/extraction_default/aperture_753_1062/trace_aperture_753_1062.npy\n",
      "        [trace] saved extraction mask parameters to /Users/zkbt/Cosmos/Data/mosaurusexample/working/ut140809_WASP-94Ab/extraction_default/aperture_753_1062/extractionmasks_aperture_753_1062.npy\n",
      "          [ccd]   read image from science_ccd1001\n",
      "         [mask] set CCD data to science_ccd1001\n",
      "     [aperture] extracting spectrum for width of 4.0\n",
      "     [aperture] estimating a sky background image\n"
     ]
    },
    {
     "name": "stderr",
     "output_type": "stream",
     "text": [
      "/Users/zkbt/Dropbox/code/python/packages/mosasaurus/mosasaurus/Aperture.py:528: RuntimeWarning: invalid value encountered in true_divide\n",
      "  self.extracted[width]['centroid'] = np.sum(weights*self.s, axis=self.sindex)/np.sum(weights, axis=self.sindex)\n"
     ]
    },
    {
     "name": "stdout",
     "output_type": "stream",
     "text": [
      "     [aperture] extracting spectrum for width of 8.0\n",
      "     [aperture] estimating a sky background image\n",
      "     [aperture] extracting spectrum for width of 12.0\n",
      "     [aperture] estimating a sky background image\n",
      "     [aperture] extracting spectrum for width of 16.0\n",
      "     [aperture] estimating a sky background image\n"
     ]
    },
    {
     "name": "stderr",
     "output_type": "stream",
     "text": [
      "/Users/zkbt/anaconda3/envs/mosasaurus/lib/python3.6/site-packages/numpy/core/fromnumeric.py:2957: RuntimeWarning: Mean of empty slice.\n",
      "  out=out, **kwargs)\n",
      "/Users/zkbt/anaconda3/envs/mosasaurus/lib/python3.6/site-packages/numpy/core/_methods.py:80: RuntimeWarning: invalid value encountered in double_scalars\n",
      "  ret = ret.dtype.type(ret / rcount)\n",
      "/Users/zkbt/Dropbox/code/python/packages/craftroom/craftroom/twod.py:85: RuntimeWarning: invalid value encountered in less_equal\n",
      "  ok = ok*(np.abs(ydata - med) <= 4*1.48*mad)\n"
     ]
    },
    {
     "ename": "TypeError",
     "evalue": "expected non-empty vector for x",
     "output_type": "error",
     "traceback": [
      "\u001b[0;31m---------------------------------------------------------------------------\u001b[0m",
      "\u001b[0;31mAssertionError\u001b[0m                            Traceback (most recent call last)",
      "\u001b[0;32m~/Dropbox/code/python/packages/mosasaurus/mosasaurus/Aperture.py\u001b[0m in \u001b[0;36mextract\u001b[0;34m(self, n, image, subtractsky, arc, remake)\u001b[0m\n\u001b[1;32m    284\u001b[0m         \u001b[0;32massert\u001b[0m\u001b[0;34m(\u001b[0m\u001b[0marc\u001b[0m \u001b[0;34m==\u001b[0m \u001b[0;32mFalse\u001b[0m\u001b[0;34m)\u001b[0m\u001b[0;34m\u001b[0m\u001b[0m\n\u001b[0;32m--> 285\u001b[0;31m         \u001b[0;32massert\u001b[0m\u001b[0;34m(\u001b[0m\u001b[0mos\u001b[0m\u001b[0;34m.\u001b[0m\u001b[0mpath\u001b[0m\u001b[0;34m.\u001b[0m\u001b[0mexists\u001b[0m\u001b[0;34m(\u001b[0m\u001b[0mself\u001b[0m\u001b[0;34m.\u001b[0m\u001b[0mextractedFilename\u001b[0m\u001b[0;34m)\u001b[0m\u001b[0;34m)\u001b[0m\u001b[0;34m\u001b[0m\u001b[0m\n\u001b[0m\u001b[1;32m    286\u001b[0m \u001b[0;34m\u001b[0m\u001b[0m\n",
      "\u001b[0;31mAssertionError\u001b[0m: ",
      "\nDuring handling of the above exception, another exception occurred:\n",
      "\u001b[0;31mTypeError\u001b[0m                                 Traceback (most recent call last)",
      "\u001b[0;32m<ipython-input-5-145fbe9d04e0>\u001b[0m in \u001b[0;36m<module>\u001b[0;34m()\u001b[0m\n\u001b[1;32m      2\u001b[0m \u001b[0;32mfrom\u001b[0m \u001b[0mmosasaurus\u001b[0m\u001b[0;34m.\u001b[0m\u001b[0mReducer\u001b[0m \u001b[0;32mimport\u001b[0m \u001b[0mReducer\u001b[0m\u001b[0;34m\u001b[0m\u001b[0m\n\u001b[1;32m      3\u001b[0m \u001b[0mr\u001b[0m \u001b[0;34m=\u001b[0m \u001b[0mReducer\u001b[0m\u001b[0;34m(\u001b[0m\u001b[0mo\u001b[0m\u001b[0;34m,\u001b[0m \u001b[0mvisualize\u001b[0m\u001b[0;34m=\u001b[0m\u001b[0;32mFalse\u001b[0m\u001b[0;34m)\u001b[0m\u001b[0;34m\u001b[0m\u001b[0m\n\u001b[0;32m----> 4\u001b[0;31m \u001b[0mr\u001b[0m\u001b[0;34m.\u001b[0m\u001b[0mreduce\u001b[0m\u001b[0;34m(\u001b[0m\u001b[0;34m)\u001b[0m\u001b[0;34m\u001b[0m\u001b[0m\n\u001b[0m",
      "\u001b[0;32m~/Dropbox/code/python/packages/mosasaurus/mosasaurus/Reducer.py\u001b[0m in \u001b[0;36mreduce\u001b[0;34m(self, remake)\u001b[0m\n\u001b[1;32m     84\u001b[0m \u001b[0;34m\u001b[0m\u001b[0m\n\u001b[1;32m     85\u001b[0m             \u001b[0;31m# loop over exposures and apertures\u001b[0m\u001b[0;34m\u001b[0m\u001b[0;34m\u001b[0m\u001b[0m\n\u001b[0;32m---> 86\u001b[0;31m             \u001b[0mself\u001b[0m\u001b[0;34m.\u001b[0m\u001b[0mmask\u001b[0m\u001b[0;34m.\u001b[0m\u001b[0mextractEverything\u001b[0m\u001b[0;34m(\u001b[0m\u001b[0mremake\u001b[0m\u001b[0;34m=\u001b[0m\u001b[0mremake\u001b[0m\u001b[0;34m)\u001b[0m\u001b[0;34m\u001b[0m\u001b[0m\n\u001b[0m\u001b[1;32m     87\u001b[0m \u001b[0;34m\u001b[0m\u001b[0m\n\u001b[1;32m     88\u001b[0m             \u001b[0;31m# write out that we're finished\u001b[0m\u001b[0;34m\u001b[0m\u001b[0;34m\u001b[0m\u001b[0m\n",
      "\u001b[0;32m~/Dropbox/code/python/packages/mosasaurus/mosasaurus/Mask.py\u001b[0m in \u001b[0;36mextractEverything\u001b[0;34m(self, remake)\u001b[0m\n\u001b[1;32m    188\u001b[0m     \u001b[0mself\u001b[0m\u001b[0;34m.\u001b[0m\u001b[0mspeak\u001b[0m\u001b[0;34m(\u001b[0m\u001b[0;34m'making sure all spectra have been extracted'\u001b[0m\u001b[0;34m)\u001b[0m\u001b[0;34m\u001b[0m\u001b[0m\n\u001b[1;32m    189\u001b[0m     \u001b[0;32mfor\u001b[0m \u001b[0mexposureprefix\u001b[0m \u001b[0;32min\u001b[0m \u001b[0mself\u001b[0m\u001b[0;34m.\u001b[0m\u001b[0mobs\u001b[0m\u001b[0;34m.\u001b[0m\u001b[0mfileprefixes\u001b[0m\u001b[0;34m[\u001b[0m\u001b[0;34m'science'\u001b[0m\u001b[0;34m]\u001b[0m\u001b[0;34m:\u001b[0m\u001b[0;34m\u001b[0m\u001b[0m\n\u001b[0;32m--> 190\u001b[0;31m         \u001b[0mself\u001b[0m\u001b[0;34m.\u001b[0m\u001b[0mextractStars\u001b[0m\u001b[0;34m(\u001b[0m\u001b[0mexposureprefix\u001b[0m\u001b[0;34m,\u001b[0m \u001b[0mremake\u001b[0m\u001b[0;34m=\u001b[0m\u001b[0mremake\u001b[0m\u001b[0;34m)\u001b[0m\u001b[0;34m\u001b[0m\u001b[0m\n\u001b[0m\u001b[1;32m    191\u001b[0m \u001b[0;34m\u001b[0m\u001b[0m\n\u001b[1;32m    192\u001b[0m     \u001b[0;31m# make a movie of the extractions\u001b[0m\u001b[0;34m\u001b[0m\u001b[0;34m\u001b[0m\u001b[0m\n",
      "\u001b[0;32m~/Dropbox/code/python/packages/mosasaurus/mosasaurus/Mask.py\u001b[0m in \u001b[0;36mextractStars\u001b[0;34m(self, n, remake)\u001b[0m\n\u001b[1;32m    170\u001b[0m       \u001b[0;32mfor\u001b[0m \u001b[0ma\u001b[0m \u001b[0;32min\u001b[0m \u001b[0mself\u001b[0m\u001b[0;34m.\u001b[0m\u001b[0mapertures\u001b[0m\u001b[0;34m:\u001b[0m\u001b[0;34m\u001b[0m\u001b[0m\n\u001b[1;32m    171\u001b[0m           \u001b[0;31m# extract the spectrum in this aperture\u001b[0m\u001b[0;34m\u001b[0m\u001b[0;34m\u001b[0m\u001b[0m\n\u001b[0;32m--> 172\u001b[0;31m           \u001b[0ma\u001b[0m\u001b[0;34m.\u001b[0m\u001b[0mextract\u001b[0m\u001b[0;34m(\u001b[0m\u001b[0mn\u001b[0m\u001b[0;34m,\u001b[0m \u001b[0mremake\u001b[0m\u001b[0;34m=\u001b[0m\u001b[0mremake\u001b[0m\u001b[0;34m)\u001b[0m\u001b[0;34m\u001b[0m\u001b[0m\n\u001b[0m\u001b[1;32m    173\u001b[0m \u001b[0;34m\u001b[0m\u001b[0m\n\u001b[1;32m    174\u001b[0m       \u001b[0;31m# hzdl - testing:\u001b[0m\u001b[0;34m\u001b[0m\u001b[0;34m\u001b[0m\u001b[0m\n",
      "\u001b[0;32m~/Dropbox/code/python/packages/mosasaurus/mosasaurus/Aperture.py\u001b[0m in \u001b[0;36mextract\u001b[0;34m(self, n, image, subtractsky, arc, remake)\u001b[0m\n\u001b[1;32m    482\u001b[0m \u001b[0;34m\u001b[0m\u001b[0m\n\u001b[1;32m    483\u001b[0m                 \u001b[0;31m# do polynomial interpolation along each column to estimate sky\u001b[0m\u001b[0;34m\u001b[0m\u001b[0;34m\u001b[0m\u001b[0m\n\u001b[0;32m--> 484\u001b[0;31m                 \u001b[0mself\u001b[0m\u001b[0;34m.\u001b[0m\u001b[0mintermediates\u001b[0m\u001b[0;34m[\u001b[0m\u001b[0mwidth\u001b[0m\u001b[0;34m]\u001b[0m\u001b[0;34m[\u001b[0m\u001b[0;34m'sky'\u001b[0m\u001b[0;34m]\u001b[0m \u001b[0;34m=\u001b[0m \u001b[0mcraftroom\u001b[0m\u001b[0;34m.\u001b[0m\u001b[0mtwod\u001b[0m\u001b[0;34m.\u001b[0m\u001b[0mpolyInterpolate\u001b[0m\u001b[0;34m(\u001b[0m\u001b[0mimage\u001b[0m\u001b[0;34m/\u001b[0m\u001b[0mself\u001b[0m\u001b[0;34m.\u001b[0m\u001b[0mimages\u001b[0m\u001b[0;34m[\u001b[0m\u001b[0;34m'NormalizedFlat'\u001b[0m\u001b[0;34m]\u001b[0m\u001b[0;34m,\u001b[0m \u001b[0mself\u001b[0m\u001b[0;34m.\u001b[0m\u001b[0mintermediates\u001b[0m\u001b[0;34m[\u001b[0m\u001b[0mwidth\u001b[0m\u001b[0;34m]\u001b[0m\u001b[0;34m[\u001b[0m\u001b[0;34m'skyMask'\u001b[0m\u001b[0;34m]\u001b[0m \u001b[0;34m==\u001b[0m \u001b[0;36m0\u001b[0m\u001b[0;34m,\u001b[0m \u001b[0morder\u001b[0m\u001b[0;34m=\u001b[0m\u001b[0;36m2\u001b[0m\u001b[0;34m,\u001b[0m \u001b[0mvisualize\u001b[0m\u001b[0;34m=\u001b[0m\u001b[0;32mFalse\u001b[0m\u001b[0;34m)\u001b[0m\u001b[0;34m\u001b[0m\u001b[0m\n\u001b[0m\u001b[1;32m    485\u001b[0m                 \u001b[0mself\u001b[0m\u001b[0;34m.\u001b[0m\u001b[0mextracted\u001b[0m\u001b[0;34m[\u001b[0m\u001b[0mwidth\u001b[0m\u001b[0;34m]\u001b[0m\u001b[0;34m[\u001b[0m\u001b[0;34m'sky'\u001b[0m\u001b[0;34m]\u001b[0m \u001b[0;34m=\u001b[0m \u001b[0;34m(\u001b[0m\u001b[0mself\u001b[0m\u001b[0;34m.\u001b[0m\u001b[0mintermediates\u001b[0m\u001b[0;34m[\u001b[0m\u001b[0mwidth\u001b[0m\u001b[0;34m]\u001b[0m\u001b[0;34m[\u001b[0m\u001b[0;34m'sky'\u001b[0m\u001b[0;34m]\u001b[0m\u001b[0;34m*\u001b[0m\u001b[0mself\u001b[0m\u001b[0;34m.\u001b[0m\u001b[0mintermediates\u001b[0m\u001b[0;34m[\u001b[0m\u001b[0mwidth\u001b[0m\u001b[0;34m]\u001b[0m\u001b[0;34m[\u001b[0m\u001b[0;34m'extractMask'\u001b[0m\u001b[0;34m]\u001b[0m\u001b[0;34m)\u001b[0m\u001b[0;34m.\u001b[0m\u001b[0msum\u001b[0m\u001b[0;34m(\u001b[0m\u001b[0mself\u001b[0m\u001b[0;34m.\u001b[0m\u001b[0msindex\u001b[0m\u001b[0;34m)\u001b[0m\u001b[0;34m\u001b[0m\u001b[0m\n\u001b[1;32m    486\u001b[0m \u001b[0;34m\u001b[0m\u001b[0m\n",
      "\u001b[0;32m~/Dropbox/code/python/packages/craftroom/craftroom/twod.py\u001b[0m in \u001b[0;36mpolyInterpolate\u001b[0;34m(image, bad, axis, order, visualize)\u001b[0m\n\u001b[1;32m     86\u001b[0m \u001b[0;34m\u001b[0m\u001b[0m\n\u001b[1;32m     87\u001b[0m \u001b[0;34m\u001b[0m\u001b[0m\n\u001b[0;32m---> 88\u001b[0;31m         \u001b[0mfit\u001b[0m \u001b[0;34m=\u001b[0m \u001b[0mnp\u001b[0m\u001b[0;34m.\u001b[0m\u001b[0mpolynomial\u001b[0m\u001b[0;34m.\u001b[0m\u001b[0mpolynomial\u001b[0m\u001b[0;34m.\u001b[0m\u001b[0mpolyfit\u001b[0m\u001b[0;34m(\u001b[0m\u001b[0mxdata\u001b[0m\u001b[0;34m[\u001b[0m\u001b[0mok\u001b[0m\u001b[0;34m]\u001b[0m\u001b[0;34m,\u001b[0m \u001b[0mydata\u001b[0m\u001b[0;34m[\u001b[0m\u001b[0mok\u001b[0m\u001b[0;34m]\u001b[0m\u001b[0;34m,\u001b[0m \u001b[0morder\u001b[0m\u001b[0;34m)\u001b[0m\u001b[0;34m\u001b[0m\u001b[0m\n\u001b[0m\u001b[1;32m     89\u001b[0m         \u001b[0mpoly\u001b[0m \u001b[0;34m=\u001b[0m \u001b[0mnp\u001b[0m\u001b[0;34m.\u001b[0m\u001b[0mpolynomial\u001b[0m\u001b[0;34m.\u001b[0m\u001b[0mpolynomial\u001b[0m\u001b[0;34m.\u001b[0m\u001b[0mPolynomial\u001b[0m\u001b[0;34m(\u001b[0m\u001b[0mfit\u001b[0m\u001b[0;34m)\u001b[0m\u001b[0;34m\u001b[0m\u001b[0m\n\u001b[1;32m     90\u001b[0m \u001b[0;34m\u001b[0m\u001b[0m\n",
      "\u001b[0;32m~/anaconda3/envs/mosasaurus/lib/python3.6/site-packages/numpy/polynomial/polynomial.py\u001b[0m in \u001b[0;36mpolyfit\u001b[0;34m(x, y, deg, rcond, full, w)\u001b[0m\n\u001b[1;32m   1437\u001b[0m         \u001b[0;32mraise\u001b[0m \u001b[0mTypeError\u001b[0m\u001b[0;34m(\u001b[0m\u001b[0;34m\"expected 1D vector for x\"\u001b[0m\u001b[0;34m)\u001b[0m\u001b[0;34m\u001b[0m\u001b[0m\n\u001b[1;32m   1438\u001b[0m     \u001b[0;32mif\u001b[0m \u001b[0mx\u001b[0m\u001b[0;34m.\u001b[0m\u001b[0msize\u001b[0m \u001b[0;34m==\u001b[0m \u001b[0;36m0\u001b[0m\u001b[0;34m:\u001b[0m\u001b[0;34m\u001b[0m\u001b[0m\n\u001b[0;32m-> 1439\u001b[0;31m         \u001b[0;32mraise\u001b[0m \u001b[0mTypeError\u001b[0m\u001b[0;34m(\u001b[0m\u001b[0;34m\"expected non-empty vector for x\"\u001b[0m\u001b[0;34m)\u001b[0m\u001b[0;34m\u001b[0m\u001b[0m\n\u001b[0m\u001b[1;32m   1440\u001b[0m     \u001b[0;32mif\u001b[0m \u001b[0my\u001b[0m\u001b[0;34m.\u001b[0m\u001b[0mndim\u001b[0m \u001b[0;34m<\u001b[0m \u001b[0;36m1\u001b[0m \u001b[0;32mor\u001b[0m \u001b[0my\u001b[0m\u001b[0;34m.\u001b[0m\u001b[0mndim\u001b[0m \u001b[0;34m>\u001b[0m \u001b[0;36m2\u001b[0m\u001b[0;34m:\u001b[0m\u001b[0;34m\u001b[0m\u001b[0m\n\u001b[1;32m   1441\u001b[0m         \u001b[0;32mraise\u001b[0m \u001b[0mTypeError\u001b[0m\u001b[0;34m(\u001b[0m\u001b[0;34m\"expected 1D or 2D array for y\"\u001b[0m\u001b[0;34m)\u001b[0m\u001b[0;34m\u001b[0m\u001b[0m\n",
      "\u001b[0;31mTypeError\u001b[0m: expected non-empty vector for x"
     ]
    }
   ],
   "source": [
    "# create a reducer to analyze this observation\n",
    "from mosasaurus.Reducer import Reducer\n",
    "r = Reducer(o, visualize=False)\n",
    "r.reduce()"
   ]
  },
  {
   "cell_type": "code",
   "execution_count": 5,
   "metadata": {},
   "outputs": [
    {
     "ename": "NameError",
     "evalue": "name 'r' is not defined",
     "output_type": "error",
     "traceback": [
      "\u001b[0;31m---------------------------------------------------------------------------\u001b[0m",
      "\u001b[0;31mNameError\u001b[0m                                 Traceback (most recent call last)",
      "\u001b[0;32m<ipython-input-5-f2ea1f8b9ba9>\u001b[0m in \u001b[0;36m<module>\u001b[0;34m()\u001b[0m\n\u001b[0;32m----> 1\u001b[0;31m \u001b[0mr\u001b[0m\u001b[0;34m.\u001b[0m\u001b[0mmask\u001b[0m\u001b[0;34m\u001b[0m\u001b[0m\n\u001b[0m",
      "\u001b[0;31mNameError\u001b[0m: name 'r' is not defined"
     ]
    }
   ],
   "source": []
  },
  {
   "cell_type": "markdown",
   "metadata": {},
   "source": [
    "### cubes\n",
    "This is where it starts getting particularly kludgy."
   ]
  },
  {
   "cell_type": "code",
   "execution_count": null,
   "metadata": {},
   "outputs": [],
   "source": [
    "\n",
    "from mosasaurus.Cube import Cube\n",
    "c = Cube(o, width=16)\n",
    "c.setStars(target='aperture_714_1063', comparisons='aperture_755_1063')\n",
    "c.populate(shift=False, max=None)\n",
    "c.save()\n",
    "c.imageCube(keys=['raw_counts'], stars=[c.target])\n",
    "\n",
    "# estimate the required shifts for each exposures\n",
    "from mosasaurus.WavelengthRecalibrator import WavelengthRecalibrator\n",
    "wr = WavelengthRecalibrator(c)\n",
    "\n",
    "# fix up the wavelength calibration for each exposure\n",
    "r.mask.setup()\n",
    "r.mask.addWavelengthCalibration(shift=True)\n",
    "\n",
    "\n",
    "# repopulate the cube\n",
    "c.populate(shift=True, remake=True)\n",
    "c.imageCube(keys=['raw_counts'], stars=[c.target])\n",
    "c.save()\n",
    "\n",
    "\n",
    "'''\n",
    "c.imageCube(remake=True)\n",
    "c.movieCube(stride=1, remake=True)\n",
    "c.shiftCube()\n",
    "c.imageCube(remake=True)\n",
    "c.movieCube(stride=1, remake=True)\n",
    "#c.nudgeWavelengths()\n",
    "'''\n",
    "\n",
    "\n",
    "\n",
    "\n"
   ]
  }
 ],
 "metadata": {
  "kernelspec": {
   "display_name": "Python 3",
   "language": "python",
   "name": "python3"
  },
  "language_info": {
   "codemirror_mode": {
    "name": "ipython",
    "version": 3
   },
   "file_extension": ".py",
   "mimetype": "text/x-python",
   "name": "python",
   "nbconvert_exporter": "python",
   "pygments_lexer": "ipython3",
   "version": "3.6.2"
  }
 },
 "nbformat": 4,
 "nbformat_minor": 2
}
