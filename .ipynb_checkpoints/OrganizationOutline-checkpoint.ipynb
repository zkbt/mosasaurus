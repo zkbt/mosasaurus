{
 "cells": [
  {
   "cell_type": "markdown",
   "metadata": {},
   "source": [
    "**Determine the basic properties of this target**.\n",
    "\n",
    "The `Target` class handles the properties of the star, and (if relevant) the planet or periodic signal associated with that star."
   ]
  },
  {
   "cell_type": "code",
   "execution_count": 1,
   "metadata": {
    "collapsed": false
   },
   "outputs": [
    {
     "name": "stdout",
     "output_type": "stream",
     "text": [
      "         [star] made <GJ1132> from SIMBAD\n",
      "       [target] Here is a brief summary of target.\n",
      "\n",
      "                 {'_line': inf,\n",
      "                  '_mute': False,\n",
      "                  '_pithy': False,\n",
      "                  '_prefix': '       [target] ',\n",
      "                  'name': 'GJ1132b',\n",
      "                  'nametag': 'target',\n",
      "                  'star': <GJ1132>}\n",
      "\n"
     ]
    }
   ],
   "source": [
    "from mosasaurus.Target import Target\n",
    "t = Target(starname='GJ1132', name='GJ1132b')\n",
    "t.summarize()"
   ]
  },
  {
   "cell_type": "markdown",
   "metadata": {},
   "source": [
    "**Determine the basic properties of this instrument.**\n",
    "\n",
    "Classes derived from the `Instrument` class handle all instrument-specific information, including\n",
    "- the reduction of CCD frames\n",
    "- the extraction of key information from headers\n",
    "- the mapping of reference positions to apertures\n",
    "- ...\n",
    "\n",
    "\n"
   ]
  },
  {
   "cell_type": "code",
   "execution_count": 2,
   "metadata": {
    "collapsed": false
   },
   "outputs": [
    {
     "name": "stdout",
     "output_type": "stream",
     "text": [
      "       [ldss3c] Here is a brief summary of ldss3c.\n",
      "\n",
      "                 {'_line': inf,\n",
      "                  '_mute': False,\n",
      "                  '_pithy': False,\n",
      "                  '_prefix': '       [ldss3c] ',\n",
      "                  'arclamps': ['He', 'Ne', 'Ar'],\n",
      "                  'baseDirectory': '/Users/zkbt/Cosmos/Data/Magellan/LDSS3/',\n",
      "                  'binning': 2,\n",
      "                  'dataDirectory': '/Users/zkbt/Cosmos/Data/Magellan/LDSS3/data/',\n",
      "                  'databottom': 0,\n",
      "                  'dataleft': 0,\n",
      "                  'dataright': 512,\n",
      "                  'datatop': 2048,\n",
      "                  'disperser': 'vph-red',\n",
      "                  'disperserDirectory': '/data/LDSS3C/vph-red/',\n",
      "                  'dispersertype': 'grism',\n",
      "                  'extractionDirectory': '/Users/zkbt/Cosmos/Data/Magellan/LDSS3/extraction/',\n",
      "                  'extractiondefaults': {'narrowest': 2,\n",
      "                                         'numberofapertures': 6,\n",
      "                                         'skyGap': 2,\n",
      "                                         'skyWidth': 10,\n",
      "                                         'spatialsubarray': 50,\n",
      "                                         'traceOrder': 2,\n",
      "                                         'wavelengthblueward': inf,\n",
      "                                         'wavelengthredward': inf,\n",
      "                                         'widest': 12},\n",
      "                  'gains': array([ 1.72,  1.49]),\n",
      "                  'grism': 'vph-red',\n",
      "                  'name': 'LDSS3C',\n",
      "                  'nametag': 'ldss3c',\n",
      "                  'namps': 2,\n",
      "                  'observatory': {'elev': <Quantity 2282.0 m>,\n",
      "                                  'elevsea': <Quantity 2282.0 m>,\n",
      "                                  'latitude': <Quantity -29.00833 deg>,\n",
      "                                  'longitude': <Quantity 4.71333 hourangle>,\n",
      "                                  'name': 'Las Campanas Observatory',\n",
      "                                  'standardzone': <Quantity 4.0 h>,\n",
      "                                  'timezone': 'Chilean',\n",
      "                                  'usedaylightsaving': -1},\n",
      "                  'telescope': 'Magellan',\n",
      "                  'wavelength2pixelsFile': '/data/LDSS3C/vph-red/vph-red_wavelength_identifications.txt',\n",
      "                  'wavelengthsFile': '/data/LDSS3C/vph-red/HeNeAr.txt',\n",
      "                  'workingDirectory': '/Users/zkbt/Cosmos/Data/Magellan/LDSS3/working/'}\n",
      "\n"
     ]
    }
   ],
   "source": [
    "from mosasaurus.instruments import LDSS3C\n",
    "i = LDSS3C(grism='vph-red')\n",
    "i.summarize()"
   ]
  },
  {
   "cell_type": "markdown",
   "metadata": {},
   "source": [
    "** Determine the basic properties of this night, including a nightly observing log.**\n",
    "\n",
    "This creates a summary observing log that contains all the files from that night. This can be useful for identifying which exposures should be used for various calibration and analysis steps.\n"
   ]
  },
  {
   "cell_type": "code",
   "execution_count": 10,
   "metadata": {
    "collapsed": false
   },
   "outputs": [
    {
     "name": "stdout",
     "output_type": "stream",
     "text": [
      "        [night] Here is a brief summary of night.\n",
      "\n",
      "                 {'_line': inf,\n",
      "                  '_mute': False,\n",
      "                  '_pithy': False,\n",
      "                  '_prefix': '        [night] ',\n",
      "                  'instrument': <mosasaurus.instruments.LDSS3C.LDSS3C object at 0x1032f9d10>,\n",
      "                  'name': 'ut160227_28',\n",
      "                  'nametag': 'night'}\n",
      "\n",
      "        [night] Creating a log of all files on ut160227_28.\n",
      "        [night] /Users/zkbt/Cosmos/Data/Magellan/LDSS3/data/ut160227_28 contains 2705 files matching \"*.fits\"\n",
      "        [night] Loaded a log file from /Users/zkbt/Cosmos/Data/Magellan/LDSS3/working/nightly_log_ut160227_28.txt.\n"
     ]
    }
   ],
   "source": [
    "from mosasaurus.Night import Night\n",
    "n = Night('ut160227_28', instrument=i)\n",
    "n.summarize()\n",
    "n.createNightlyLog()"
   ]
  },
  {
   "cell_type": "markdown",
   "metadata": {},
   "source": [
    "-\n",
    "-determine the basic properties of this observation\n",
    "-identify data associated with this observation\n",
    "-calculate auxiliary information (e.g. barycentric correction)\n",
    "-create master calibration data relevant to this observation\n",
    "-identify likely cosmic rays in this image\n",
    "-define reference positions from which spectra should be extracted\n",
    "-identify relevant pixels, define extraction apertures\n",
    "-extract spectra, and visualize the process\n"
   ]
  },
  {
   "cell_type": "code",
   "execution_count": null,
   "metadata": {
    "collapsed": true
   },
   "outputs": [],
   "source": []
  }
 ],
 "metadata": {
  "anaconda-cloud": {},
  "kernelspec": {
   "display_name": "Python 2",
   "language": "python",
   "name": "python2"
  },
  "language_info": {
   "codemirror_mode": {
    "name": "ipython",
    "version": 2
   },
   "file_extension": ".py",
   "mimetype": "text/x-python",
   "name": "python",
   "nbconvert_exporter": "python",
   "pygments_lexer": "ipython2",
   "version": "2.7.13"
  }
 },
 "nbformat": 4,
 "nbformat_minor": 2
}
